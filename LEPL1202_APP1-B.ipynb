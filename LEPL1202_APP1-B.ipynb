{
 "cells": [
  {
   "cell_type": "code",
   "execution_count": null,
   "id": "cbb7aac4",
   "metadata": {},
   "outputs": [],
   "source": [
    "import numpy as np\n",
    "import plotly.graph_objects as go\n",
    "\n",
    "from ipywidgets import interact"
   ]
  },
  {
   "cell_type": "code",
   "execution_count": null,
   "id": "2aad4872",
   "metadata": {},
   "outputs": [],
   "source": [
    "def R(x, z_a=1, z_b=0, L=1):\n",
    "    return z_b + (z_a - z_b) * ((x - L) / L) ** 2\n",
    "\n",
    "\n",
    "def B(x, z_a=1, z_b=0, L=1):\n",
    "    return z_a - (z_a - z_b) * (x / L)"
   ]
  },
  {
   "cell_type": "code",
   "execution_count": null,
   "id": "14b48dea",
   "metadata": {},
   "outputs": [],
   "source": [
    "x = np.linspace(0, 1)\n",
    "\n",
    "trace_R = go.Scatter(\n",
    "        x=x,\n",
    "        y=R(x),\n",
    "        fill=\"tozeroy\",\n",
    "        name=\"R\",\n",
    "        mode=\"lines\",\n",
    "        line_color=\"red\",\n",
    "    )\n",
    "\n",
    "trace_B =go.Scatter(\n",
    "        x=x,\n",
    "        y=B(x),\n",
    "        fill=\"tonexty\",\n",
    "        name=\"B\",\n",
    "        mode=\"lines\",\n",
    "        line_color=\"blue\",\n",
    "    )\n",
    "\n",
    "fig = go.FigureWidget(data=[trace_R, trace_B])\n",
    "\n",
    "@interact(L=(1,10,1), z_a=(0.1,1,0.1), z_b=(0.1,1,0.1))\n",
    "def update(L=1,z_a=1,z_b=0):\n",
    "    with fig.batch_update():\n",
    "        x = np.linspace(0, L)\n",
    "        fig.data[0].x = x\n",
    "        fig.data[0].y = R(x, L=L,z_a=z_a,z_b=z_b)\n",
    "        fig.data[1].x = x\n",
    "        fig.data[1].y = B(x, L=L,z_a=z_a,z_b=z_b)\n",
    "        \n",
    "fig"
   ]
  },
  {
   "cell_type": "code",
   "execution_count": null,
   "id": "e8ce7898",
   "metadata": {},
   "outputs": [],
   "source": [
    "# !pip install ipywidgets==7.6.5 nbconvert==6.3.0 jupyter-server==1.12.1"
   ]
  },
  {
   "cell_type": "code",
   "execution_count": null,
   "id": "739783ec",
   "metadata": {},
   "outputs": [],
   "source": []
  }
 ],
 "metadata": {
  "kernelspec": {
   "display_name": "Python 3 (ipykernel)",
   "language": "python",
   "name": "python3"
  },
  "language_info": {
   "codemirror_mode": {
    "name": "ipython",
    "version": 3
   },
   "file_extension": ".py",
   "mimetype": "text/x-python",
   "name": "python",
   "nbconvert_exporter": "python",
   "pygments_lexer": "ipython3",
   "version": "3.10.6"
  }
 },
 "nbformat": 4,
 "nbformat_minor": 5
}
